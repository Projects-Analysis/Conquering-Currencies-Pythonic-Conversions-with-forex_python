{
  "nbformat": 4,
  "nbformat_minor": 0,
  "metadata": {
    "colab": {
      "provenance": [],
      "authorship_tag": "ABX9TyML9LHCrfJf7Xj2QicdGcEV",
      "include_colab_link": true
    },
    "kernelspec": {
      "name": "python3",
      "display_name": "Python 3"
    },
    "language_info": {
      "name": "python"
    }
  },
  "cells": [
    {
      "cell_type": "markdown",
      "metadata": {
        "id": "view-in-github",
        "colab_type": "text"
      },
      "source": [
        "<a href=\"https://colab.research.google.com/github/Projects-Analysis/Conquering-Currencies-Pythonic-Conversions-with-forex_python/blob/main/Currency_Conversion_with_Python.ipynb\" target=\"_parent\"><img src=\"https://colab.research.google.com/assets/colab-badge.svg\" alt=\"Open In Colab\"/></a>"
      ]
    },
    {
      "cell_type": "markdown",
      "source": [
        "# Conquering Currencies: Pythonic Conversions with forex_python"
      ],
      "metadata": {
        "id": "GLawcS4bC8bx"
      }
    },
    {
      "cell_type": "markdown",
      "source": [
        "###  Installing Forex Python"
      ],
      "metadata": {
        "id": "w9iMdoRw8nzb"
      }
    },
    {
      "cell_type": "code",
      "source": [
        "pip install forex-python"
      ],
      "metadata": {
        "colab": {
          "base_uri": "https://localhost:8080/"
        },
        "id": "u9maY7Ke86ru",
        "outputId": "42802ac1-ee3f-46cb-fc59-d30609f165fe"
      },
      "execution_count": 1,
      "outputs": [
        {
          "output_type": "stream",
          "name": "stdout",
          "text": [
            "Requirement already satisfied: forex-python in /usr/local/lib/python3.10/dist-packages (1.8)\n",
            "Requirement already satisfied: requests in /usr/local/lib/python3.10/dist-packages (from forex-python) (2.31.0)\n",
            "Requirement already satisfied: simplejson in /usr/local/lib/python3.10/dist-packages (from forex-python) (3.19.2)\n",
            "Requirement already satisfied: charset-normalizer<4,>=2 in /usr/local/lib/python3.10/dist-packages (from requests->forex-python) (3.3.2)\n",
            "Requirement already satisfied: idna<4,>=2.5 in /usr/local/lib/python3.10/dist-packages (from requests->forex-python) (3.6)\n",
            "Requirement already satisfied: urllib3<3,>=1.21.1 in /usr/local/lib/python3.10/dist-packages (from requests->forex-python) (2.0.7)\n",
            "Requirement already satisfied: certifi>=2017.4.17 in /usr/local/lib/python3.10/dist-packages (from requests->forex-python) (2023.11.17)\n"
          ]
        }
      ]
    },
    {
      "cell_type": "markdown",
      "source": [
        " Ever been lost in the labyrinth of fluctuating exchange rates? Wishing you could effortlessly translate those dollar bills into euros or yen? Well, fret no more. The world of Python has a secret weapon for currency conversions: forex_python\n",
        "\n",
        " Imagine a world where a few lines of code can bridge the financial gap between nations. With forex_python, that world becomes reality. This nifty library empowers you to effortlessly convert currencies with just a sprinkle of Python magic. Say goodbye to clunky calculators and confusing conversion tables; forex_python is your one-stop shop for all things currency conversion."
      ],
      "metadata": {
        "id": "aFkQjmivD0PU"
      }
    },
    {
      "cell_type": "markdown",
      "source": [
        "## Importing the Library for the Conversion\n",
        "- forex_python offers much more than simple conversions. You can retrieve the latest exchange rates for various currencies, explore historical rates, and even schedule updates to stay on top of the ever-changing financial landscape."
      ],
      "metadata": {
        "id": "BCGExQq_FVyN"
      }
    },
    {
      "cell_type": "code",
      "execution_count": 2,
      "metadata": {
        "id": "tCgnwIxi6LcJ"
      },
      "outputs": [],
      "source": [
        "from forex_python.converter import CurrencyRates"
      ]
    },
    {
      "cell_type": "markdown",
      "source": [
        "- Importing the CurrencyRates class: We first import the CurrencyRates class from the forex_python.converter module. This gives us access to all the methods and attributes needed for our currency conversion adventure.\n",
        "\n",
        "- Creating a CurrencyRates object: We then create an instance of the CurrencyRates class, aptly named c. This object will be our trusty guide in navigating the currency jungle.\n",
        "\n",
        "- Defining our variables: We set the amount to be converted at 1, the from_currency as USD (United States Dollars), and the to_currency as GBP (British Pounds).\n",
        "\n",
        "- The magic happens: With a flick of the Python wand, we invoke the convert method of our c object. This method takes three arguments: the starting currency, the ending currency, and the amount to be converted. It then returns the equivalent amount in the desired currency.\n",
        "\n",
        "- Presenting the results: Finally, we use the print function to display the converted amount in a user-friendly format."
      ],
      "metadata": {
        "id": "oGLIJfVtGPt0"
      }
    },
    {
      "cell_type": "code",
      "source": [
        "c = CurrencyRates()\n",
        "\n",
        "amount = 1\n",
        "from_currency = 'USD'\n",
        "to_currency = 'GBP'\n",
        "converted_amount = c.convert(from_currency, to_currency, amount)\n",
        "print(amount, from_currency, \"=\", converted_amount, to_currency)"
      ],
      "metadata": {
        "colab": {
          "base_uri": "https://localhost:8080/"
        },
        "id": "GCWPrnqE7ZBG",
        "outputId": "9ad63efb-528c-465a-8398-fe0e6f7df367"
      },
      "execution_count": 3,
      "outputs": [
        {
          "output_type": "stream",
          "name": "stdout",
          "text": [
            "1 USD = 0.8168228678537958 GBP\n"
          ]
        }
      ]
    },
    {
      "cell_type": "markdown",
      "source": [
        "\n",
        "\n",
        "Whether you're a seasoned traveler, a global entrepreneur, or simply curious about the interconnected world of currencies, forex_python is a valuable tool to have in your Python toolbox. It empowers you to navigate the financial terrain with confidence, one conversion at a time. So, what are you waiting for? Start exploring the possibilities and conquer the world of currencies, one line of Python code at a time!"
      ],
      "metadata": {
        "id": "ubpWRP03DE5B"
      }
    }
  ]
}